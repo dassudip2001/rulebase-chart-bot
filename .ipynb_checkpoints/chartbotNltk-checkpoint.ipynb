{
 "cells": [
  {
   "cell_type": "code",
   "execution_count": 29,
   "id": "3ca35ecb",
   "metadata": {},
   "outputs": [],
   "source": [
    "import numpy\n",
    "import string\n",
    "import random\n",
    "import nltk"
   ]
  },
  {
   "cell_type": "code",
   "execution_count": 30,
   "id": "42782cd4",
   "metadata": {},
   "outputs": [],
   "source": [
    "f=open('data.txt','r',errors='ignore')\n",
    "row=f.read()"
   ]
  },
  {
   "cell_type": "code",
   "execution_count": null,
   "id": "a4fe6a5c",
   "metadata": {},
   "outputs": [],
   "source": []
  },
  {
   "cell_type": "code",
   "execution_count": 31,
   "id": "c8fd2f0b",
   "metadata": {},
   "outputs": [],
   "source": [
    "row=row.lower()\n",
    "# convart lower case"
   ]
  },
  {
   "cell_type": "code",
   "execution_count": 32,
   "id": "6917ae05",
   "metadata": {},
   "outputs": [
    {
     "name": "stderr",
     "output_type": "stream",
     "text": [
      "[nltk_data] Downloading package punkt to /home/sudip/nltk_data...\n",
      "[nltk_data]   Package punkt is already up-to-date!\n"
     ]
    },
    {
     "data": {
      "text/plain": [
       "True"
      ]
     },
     "execution_count": 32,
     "metadata": {},
     "output_type": "execute_result"
    }
   ],
   "source": [
    "nltk.download('punkt')\n",
    "# using punkt tokenizer"
   ]
  },
  {
   "cell_type": "code",
   "execution_count": 33,
   "id": "6982eb0e",
   "metadata": {},
   "outputs": [
    {
     "name": "stderr",
     "output_type": "stream",
     "text": [
      "[nltk_data] Downloading package wordnet to /home/sudip/nltk_data...\n",
      "[nltk_data]   Package wordnet is already up-to-date!\n"
     ]
    },
    {
     "data": {
      "text/plain": [
       "True"
      ]
     },
     "execution_count": 33,
     "metadata": {},
     "output_type": "execute_result"
    }
   ],
   "source": [
    "nltk.download('wordnet')\n",
    "# using the wordnet dictonery"
   ]
  },
  {
   "cell_type": "code",
   "execution_count": 34,
   "id": "c7463a8c",
   "metadata": {},
   "outputs": [
    {
     "name": "stderr",
     "output_type": "stream",
     "text": [
      "[nltk_data] Downloading package omw-1.4 to /home/sudip/nltk_data...\n",
      "[nltk_data]   Package omw-1.4 is already up-to-date!\n"
     ]
    },
    {
     "data": {
      "text/plain": [
       "True"
      ]
     },
     "execution_count": 34,
     "metadata": {},
     "output_type": "execute_result"
    }
   ],
   "source": [
    "nltk.download('omw-1.4')"
   ]
  },
  {
   "cell_type": "code",
   "execution_count": 35,
   "id": "e2700eec",
   "metadata": {},
   "outputs": [],
   "source": [
    "sentance_tokens=nltk.sent_tokenize(row)"
   ]
  },
  {
   "cell_type": "code",
   "execution_count": 36,
   "id": "b800d54a",
   "metadata": {},
   "outputs": [],
   "source": [
    "word_tokenize=nltk.word_tokenize(row)"
   ]
  },
  {
   "cell_type": "code",
   "execution_count": 37,
   "id": "e17c4e81",
   "metadata": {},
   "outputs": [],
   "source": [
    "lemmer=nltk.stem.WordNetLemmatizer()\n",
    "def LemTokens(tokens):\n",
    "    return [lemmer.lemmatize(token) for token in tokens]\n",
    "remove_punc_dict=dict((ord(punct),None)for punct in string.punctuation)\n",
    "def LemNormalize(text):\n",
    "    return LemTokens(nltk.word_tokenize(text.lower().translate(remove_punc_dict)))"
   ]
  },
  {
   "cell_type": "code",
   "execution_count": 38,
   "id": "c2429007",
   "metadata": {},
   "outputs": [],
   "source": [
    "greet_inputs=('hello','whatsup','how are you?')\n",
    "greed_responses=('hi','hay','Hey There')\n",
    "def greet(sentance):\n",
    "    for word in sentance.split():\n",
    "        if word.lower() in greet_inputs:\n",
    "            return random.choice(greed_responses)"
   ]
  },
  {
   "cell_type": "code",
   "execution_count": 39,
   "id": "5ba7250c",
   "metadata": {},
   "outputs": [],
   "source": [
    "from sklearn.feature_extraction.text import TfidfVectorizer\n",
    "from sklearn.metrics.pairwise import cosine_similarity"
   ]
  },
  {
   "cell_type": "code",
   "execution_count": 40,
   "id": "668d8dab",
   "metadata": {},
   "outputs": [],
   "source": [
    "def response(user_responce):\n",
    "    robo1_responce=''\n",
    "    Tfidfvc=TfidfVectorizer(tokenizer=LemNormalize,stop_words='english')\n",
    "    tfidf=Tfidfvc.fit_transform(sentance_tokens)\n",
    "    vals=cosine_similarity(tfidf[-1],tfidf)\n",
    "    idx=vals.argsort()[0][-2]\n",
    "    flat=vals.flatten()\n",
    "    flat.sort()\n",
    "    req_tfidf=flat[-2]\n",
    "    if(req_tfidf==0):\n",
    "        robo1_responce=robo1_responce+\"i am sorry.i can not understand\"\n",
    "        return robo1_responce\n",
    "    else:\n",
    "        robo1_responce=robo1_responce+sentance_tokens[idx]\n",
    "        return robo1_responce"
   ]
  },
  {
   "cell_type": "code",
   "execution_count": 41,
   "id": "64fb30d0",
   "metadata": {},
   "outputs": [
    {
     "name": "stdout",
     "output_type": "stream",
     "text": [
      "hello| i am chartbot. start typing .for ending typing type by|\n",
      "hello\n",
      "Bot hi\n",
      "Can you tell me abou you\n",
      "Bot:by responding to any input that contains the word 'mother' with 'tell me more about your family').\n",
      "what is python\n",
      "Bot:i am sorry.i can not understand\n",
      "what is turing test\n",
      "Bot:chatbot competitions focus on the turing test or more specific goals.\n",
      "chart bot are computer programs\n",
      "Bot:few programs ever needed it more.\n",
      "ok\n",
      "Bot:i am sorry.i can not understand\n",
      "thanks\n",
      "Welcome................\n"
     ]
    }
   ],
   "source": [
    "flag=True\n",
    "print(\"hello ! i am chartbot. start conversion using hello .for ending typing type bye !\")\n",
    "while(flag==True):\n",
    "    user_responce=input()\n",
    "    user_responce=user_responce.lower()\n",
    "    if(user_responce!='bye'):\n",
    "        if(user_responce=='thank you' or user_responce=='thanks'):\n",
    "            flag=False\n",
    "            print('Welcome................')\n",
    "        else:\n",
    "            if(greet(user_responce)!=None):\n",
    "                print('Bot '+greet(user_responce))\n",
    "            else:\n",
    "                sentance_tokens.append(user_responce)\n",
    "                word_tokenize=word_tokenize+nltk.word_tokenize(user_responce)\n",
    "                final=list(set(word_tokenize))\n",
    "                print('Bot:',end='')\n",
    "                print(response(user_responce))\n",
    "                sentance_tokens.remove(user_responce)\n",
    "    else:\n",
    "        flag=False\n",
    "        print('Bot:goodbuy')\n",
    "                "
   ]
  },
  {
   "cell_type": "code",
   "execution_count": null,
   "id": "d0a0ccde",
   "metadata": {},
   "outputs": [],
   "source": []
  },
  {
   "cell_type": "code",
   "execution_count": null,
   "id": "5aebe733",
   "metadata": {},
   "outputs": [],
   "source": []
  },
  {
   "cell_type": "code",
   "execution_count": null,
   "id": "3655caf4",
   "metadata": {},
   "outputs": [],
   "source": []
  },
  {
   "cell_type": "code",
   "execution_count": null,
   "id": "7b5cabf1",
   "metadata": {},
   "outputs": [],
   "source": []
  }
 ],
 "metadata": {
  "kernelspec": {
   "display_name": "Python 3 (ipykernel)",
   "language": "python",
   "name": "python3"
  },
  "language_info": {
   "codemirror_mode": {
    "name": "ipython",
    "version": 3
   },
   "file_extension": ".py",
   "mimetype": "text/x-python",
   "name": "python",
   "nbconvert_exporter": "python",
   "pygments_lexer": "ipython3",
   "version": "3.8.10"
  }
 },
 "nbformat": 4,
 "nbformat_minor": 5
}
